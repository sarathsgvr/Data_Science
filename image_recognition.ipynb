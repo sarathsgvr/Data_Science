{
 "cells": [
  {
   "cell_type": "markdown",
   "metadata": {},
   "source": [
    "# Project 8: Neural Networks\n",
    "## Recognizing multi-digit numbers in photographs captured at street level\n",
    "#### Objective:\n",
    "    To implement a simple image classification pipeline based on the k-Nearest Neighbour and a deep neural network. \n",
    "#### Dataset:\n",
    "    SVHN_single_grey1.h5   "
   ]
  },
  {
   "cell_type": "code",
   "execution_count": 1,
   "metadata": {
    "colab": {
     "base_uri": "https://localhost:8080/",
     "height": 64
    },
    "colab_type": "code",
    "id": "WzG0-imRi2hE",
    "outputId": "cad904eb-1317-4b67-db01-c454e3fc1edb"
   },
   "outputs": [
    {
     "data": {
      "text/html": [
       "<p style=\"color: red;\">\n",
       "The default version of TensorFlow in Colab will soon switch to TensorFlow 2.x.<br>\n",
       "We recommend you <a href=\"https://www.tensorflow.org/guide/migrate\" target=\"_blank\">upgrade</a> now \n",
       "or ensure your notebook will continue to use TensorFlow 1.x via the <code>%tensorflow_version 1.x</code> magic:\n",
       "<a href=\"https://colab.research.google.com/notebooks/tensorflow_version.ipynb\" target=\"_blank\">more info</a>.</p>\n"
      ],
      "text/plain": [
       "<IPython.core.display.HTML object>"
      ]
     },
     "metadata": {
      "tags": []
     },
     "output_type": "display_data"
    }
   ],
   "source": [
    "# Import Libraries\n",
    "import h5py\n",
    "import pandas as pd\n",
    "import numpy as np\n",
    "import tensorflow as tf\n",
    "from sklearn.model_selection import train_test_split\n",
    "from sklearn.metrics import confusion_matrix\n",
    "import tensorflow.keras as keras\n",
    "import os"
   ]
  },
  {
   "cell_type": "code",
   "execution_count": 2,
   "metadata": {
    "colab": {
     "base_uri": "https://localhost:8080/",
     "height": 35
    },
    "colab_type": "code",
    "id": "iYSIOVbA_8VB",
    "outputId": "ff38727f-9af6-4f79-cd95-b00fc25c3ec7"
   },
   "outputs": [
    {
     "name": "stdout",
     "output_type": "stream",
     "text": [
      "Drive already mounted at /content/drive; to attempt to forcibly remount, call drive.mount(\"/content/drive\", force_remount=True).\n"
     ]
    }
   ],
   "source": [
    "from google.colab import drive\n",
    "drive.mount('/content/drive')"
   ]
  },
  {
   "cell_type": "code",
   "execution_count": 0,
   "metadata": {
    "colab": {},
    "colab_type": "code",
    "id": "wEn-B1sxAHAd"
   },
   "outputs": [],
   "source": [
    "# Import Libraries\n",
    "import h5py\n",
    "import pandas as pd\n",
    "import numpy as np\n",
    "import tensorflow as tf\n",
    "from sklearn.model_selection import train_test_split\n",
    "from sklearn.metrics import confusion_matrix\n",
    "import tensorflow.keras as keras\n",
    "import os"
   ]
  },
  {
   "cell_type": "code",
   "execution_count": 0,
   "metadata": {
    "colab": {},
    "colab_type": "code",
    "id": "DYYacXwpHrVX"
   },
   "outputs": [],
   "source": [
    "df = h5py.File(\"/content/drive/My Drive/Colab Notebooks/SVHN_single_grey1.h5\", 'r')"
   ]
  },
  {
   "cell_type": "code",
   "execution_count": 0,
   "metadata": {
    "colab": {},
    "colab_type": "code",
    "id": "xVpIYnlYJv9D"
   },
   "outputs": [],
   "source": [
    "X_train = df['X_train'][:]\n",
    "X_test = df['X_test'][:]\n",
    "y_train1 = df['y_train'][:]\n",
    "y_test1 = df['y_test'][:]"
   ]
  },
  {
   "cell_type": "code",
   "execution_count": 0,
   "metadata": {
    "colab": {},
    "colab_type": "code",
    "id": "2kdfpWkNKkfh"
   },
   "outputs": [],
   "source": [
    "df.close()"
   ]
  },
  {
   "cell_type": "code",
   "execution_count": 0,
   "metadata": {
    "colab": {},
    "colab_type": "code",
    "id": "yFrVUcVPK2UA"
   },
   "outputs": [],
   "source": [
    "import numpy as np\n",
    "from keras.datasets import mnist\n",
    "from keras.models import Sequential\n",
    "from keras.layers import Dense\n",
    "from keras.utils import np_utils"
   ]
  },
  {
   "cell_type": "code",
   "execution_count": 9,
   "metadata": {
    "colab": {
     "base_uri": "https://localhost:8080/",
     "height": 95
    },
    "colab_type": "code",
    "id": "tYVd292VLZLg",
    "outputId": "624e8060-ac3a-48d3-e6c8-f7bf033db327"
   },
   "outputs": [
    {
     "data": {
      "image/png": "[encoded data removed]",
      "text/plain": [
       "<Figure size 720x72 with 10 Axes>"
      ]
     },
     "metadata": {
      "tags": []
     },
     "output_type": "display_data"
    },
    {
     "name": "stdout",
     "output_type": "stream",
     "text": [
      "Label = [2 6 7 4 4 0 3 0 7 3]\n"
     ]
    }
   ],
   "source": [
    "np.random.seed(7)\n",
    "%matplotlib inline\n",
    "import matplotlib.pyplot as plt\n",
    "plt.figure(figsize=(10,1))\n",
    "for i in range(10):\n",
    "    plt.subplot(1, 10, i+1)\n",
    "    plt.imshow(X_train[i], cmap='gray')\n",
    "    plt.axis('off')\n",
    "plt.show()\n",
    "print(\"Label = %s\" %(y_train1[0:10]))"
   ]
  },
  {
   "cell_type": "code",
   "execution_count": 0,
   "metadata": {
    "colab": {},
    "colab_type": "code",
    "id": "Z6DfinG8MCWt"
   },
   "outputs": [],
   "source": [
    "X_train = X_train.reshape(X_train.shape[0], 1024)\n",
    "X_test = X_test.reshape(X_test.shape[0], 1024)\n",
    "X_train = X_train/255.0\n",
    "X_test = X_test/255.0"
   ]
  },
  {
   "cell_type": "code",
   "execution_count": 0,
   "metadata": {
    "colab": {},
    "colab_type": "code",
    "id": "ybiHnSZVMpEM"
   },
   "outputs": [],
   "source": [
    "#one hot encode output\n",
    "\n",
    "y_train = np_utils.to_categorical(y_train1)\n",
    "y_test = np_utils.to_categorical(y_test1)"
   ]
  },
  {
   "cell_type": "code",
   "execution_count": 0,
   "metadata": {
    "colab": {},
    "colab_type": "code",
    "id": "HfrVeKX2OihY"
   },
   "outputs": [],
   "source": [
    "X_train1 = []\n",
    "for i in range(42000):\n",
    "  X_train1.append(X_train[i,:].flatten())\n",
    "X_test1 = []\n",
    "for i in range(18000):\n",
    "  X_test1.append(X_test[i,:].flatten())"
   ]
  },
  {
   "cell_type": "code",
   "execution_count": 0,
   "metadata": {
    "colab": {},
    "colab_type": "code",
    "id": "s_7wGX52Pmn0"
   },
   "outputs": [],
   "source": [
    "X_train1 = X_train1[:2000]\n",
    "X_test1 = X_test1[:2000]\n",
    "y_tr = y_train1[:2000]\n",
    "y_te = y_test1[:2000]"
   ]
  },
  {
   "cell_type": "code",
   "execution_count": 0,
   "metadata": {
    "colab": {},
    "colab_type": "code",
    "id": "ZkIBumpPQHbB"
   },
   "outputs": [],
   "source": [
    "from sklearn.neighbors import KNeighborsClassifier\n",
    "from sklearn.metrics import accuracy_score"
   ]
  },
  {
   "cell_type": "code",
   "execution_count": 0,
   "metadata": {
    "colab": {},
    "colab_type": "code",
    "id": "pwuJb78hQ8AZ"
   },
   "outputs": [],
   "source": [
    "def knn(k):\n",
    "  knn = KNeighborsClassifier(n_neighbors=k, weights='uniform', metric='euclidean')\n",
    "  knn.fit(X_train1, y_tr)\n",
    "  y_predict = knn.predict(X_test1)\n",
    "  score = accuracy_score(y_te, y_predict)\n",
    "  print(score)"
   ]
  },
  {
   "cell_type": "code",
   "execution_count": 16,
   "metadata": {
    "colab": {
     "base_uri": "https://localhost:8080/",
     "height": 277
    },
    "colab_type": "code",
    "id": "o0uJPdTwSAzm",
    "outputId": "711962e7-db2b-46be-cdeb-fc07861e6d4c"
   },
   "outputs": [
    {
     "name": "stdout",
     "output_type": "stream",
     "text": [
      "0.2975\n",
      "0.292\n",
      "0.3015\n",
      "0.307\n",
      "0.3055\n",
      "0.311\n",
      "0.2975\n",
      "0.294\n",
      "0.2975\n",
      "0.2935\n",
      "0.2945\n",
      "0.2955\n",
      "0.2865\n",
      "0.2805\n",
      "0.279\n"
     ]
    }
   ],
   "source": [
    "for i in range(1,30,2):\n",
    "  knn(i)"
   ]
  },
  {
   "cell_type": "code",
   "execution_count": 0,
   "metadata": {
    "colab": {},
    "colab_type": "code",
    "id": "POJ-rMKuSJuZ"
   },
   "outputs": [],
   "source": [
    "# K=11 is giving the maximum accuracy."
   ]
  },
  {
   "cell_type": "code",
   "execution_count": 18,
   "metadata": {
    "colab": {
     "base_uri": "https://localhost:8080/",
     "height": 35
    },
    "colab_type": "code",
    "id": "kjN1-YBIhOVL",
    "outputId": "323320c0-a0bc-4cf3-adc1-8f791f7479f7"
   },
   "outputs": [
    {
     "name": "stdout",
     "output_type": "stream",
     "text": [
      "0.311\n"
     ]
    }
   ],
   "source": [
    "knn = KNeighborsClassifier(n_neighbors=11, weights='uniform', metric='euclidean')\n",
    "knn.fit(X_train1, y_tr)\n",
    "y_predict = knn.predict(X_test1)\n",
    "score = accuracy_score(y_te, y_predict)\n",
    "print(score)"
   ]
  },
  {
   "cell_type": "code",
   "execution_count": 21,
   "metadata": {
    "colab": {
     "base_uri": "https://localhost:8080/",
     "height": 52
    },
    "colab_type": "code",
    "id": "vKhktSPmhwIw",
    "outputId": "85ee8aa5-b912-4af2-9b83-aa325514d8a4"
   },
   "outputs": [
    {
     "name": "stdout",
     "output_type": "stream",
     "text": [
      "Actual Value = 1\n",
      "Predicted Value = 6\n"
     ]
    }
   ],
   "source": [
    "# Comparing the predicted and actual value\n",
    "print(\"Actual Value = {}\".format(y_te[0]))\n",
    "print(\"Predicted Value = {}\".format(y_predict[0]))"
   ]
  },
  {
   "cell_type": "code",
   "execution_count": 0,
   "metadata": {
    "colab": {},
    "colab_type": "code",
    "id": "MR_ZjqCQiPWh"
   },
   "outputs": [],
   "source": [
    "# We can see that the KNN model is performing poorly in prediction."
   ]
  },
  {
   "cell_type": "code",
   "execution_count": 23,
   "metadata": {
    "colab": {
     "base_uri": "https://localhost:8080/",
     "height": 191
    },
    "colab_type": "code",
    "id": "KYFkJCdmib4O",
    "outputId": "f2f3bce7-13cc-43ab-de36-9f670526315f"
   },
   "outputs": [
    {
     "data": {
      "text/plain": [
       "array([[105,  15,  16,  25,  17,  34,  35,  11,  50,  55],\n",
       "       [ 17, 101,  29,  33,  32,  30,  22,  25,  19,  17],\n",
       "       [ 14,  14,  73,  23,  18,  22,  21,  49,  20,  23],\n",
       "       [ 10,  10,  14,  36,   9,  15,  22,  23,  16,   9],\n",
       "       [ 12,  17,  11,  10,  93,  15,  17,  13,  17,  14],\n",
       "       [ 10,   6,   5,  24,   6,  43,  11,   3,  10,  14],\n",
       "       [ 25,   9,   8,  11,  10,  21,  51,  10,  29,  16],\n",
       "       [  4,   8,  16,  12,   7,   4,   5,  65,   1,  10],\n",
       "       [  7,   2,   3,   4,   2,  11,   4,   0,  19,   8],\n",
       "       [ 17,   3,  12,   7,  10,  16,  14,   6,  17,  36]])"
      ]
     },
     "execution_count": 23,
     "metadata": {
      "tags": []
     },
     "output_type": "execute_result"
    }
   ],
   "source": [
    "from sklearn.metrics import confusion_matrix\n",
    "confusion_matrix(y_predict, y_te)"
   ]
  },
  {
   "cell_type": "code",
   "execution_count": 24,
   "metadata": {
    "colab": {
     "base_uri": "https://localhost:8080/",
     "height": 35
    },
    "colab_type": "code",
    "id": "9j3kW0Eai1HZ",
    "outputId": "05c61c29-cfc9-4fa3-cafb-fa57f1f3c2d9"
   },
   "outputs": [
    {
     "data": {
      "text/plain": [
       "0.6890000000000001"
      ]
     },
     "execution_count": 24,
     "metadata": {
      "tags": []
     },
     "output_type": "execute_result"
    }
   ],
   "source": [
    "mse = 1 - score\n",
    "mse"
   ]
  },
  {
   "cell_type": "code",
   "execution_count": 0,
   "metadata": {
    "colab": {},
    "colab_type": "code",
    "id": "RQmN8ZiyjMhR"
   },
   "outputs": [],
   "source": [
    "# The performance of KNN model is very poor in image classification as the images are very unique.\n",
    "# Let's try the same with deep neural network classifier network"
   ]
  },
  {
   "cell_type": "code",
   "execution_count": 0,
   "metadata": {
    "colab": {},
    "colab_type": "code",
    "id": "iS7SXWYoj4_a"
   },
   "outputs": [],
   "source": [
    "import keras\n",
    "from keras.layers import BatchNormalization\n",
    "from keras import losses\n",
    "from keras import optimizers\n",
    "from keras.layers import Dropout, MaxPooling2D"
   ]
  },
  {
   "cell_type": "code",
   "execution_count": 0,
   "metadata": {
    "colab": {},
    "colab_type": "code",
    "id": "VPMIE1FIk1X7"
   },
   "outputs": [],
   "source": [
    "def neural_network():\n",
    "    model = Sequential()\n",
    "    model.add(BatchNormalization(input_shape = (1024,)))\n",
    "    model.add(Dense(256, activation='relu'))\n",
    "    model.add(Dense(64, activation='relu'))\n",
    "    model.add(Dense(64, activation='relu'))\n",
    "    model.add(Dense(32, activation='relu'))\n",
    "    model.add(Dense(10, activation='softmax'))\n",
    "    \n",
    "    sgd = optimizers.Adam(lr=1e-3)\n",
    "    model.compile(loss=losses.categorical_crossentropy, optimizer=sgd, metrics=['accuracy'])\n",
    "    return model"
   ]
  },
  {
   "cell_type": "code",
   "execution_count": 56,
   "metadata": {
    "colab": {
     "base_uri": "https://localhost:8080/",
     "height": 72
    },
    "colab_type": "code",
    "id": "T92EAHPslbRm",
    "outputId": "4f3bdc23-7081-42fd-9589-a1524b51286b"
   },
   "outputs": [
    {
     "name": "stdout",
     "output_type": "stream",
     "text": [
      "WARNING:tensorflow:From /usr/local/lib/python3.6/dist-packages/keras/optimizers.py:793: The name tf.train.Optimizer is deprecated. Please use tf.compat.v1.train.Optimizer instead.\n",
      "\n"
     ]
    }
   ],
   "source": [
    "model = neural_network()"
   ]
  },
  {
   "cell_type": "code",
   "execution_count": 66,
   "metadata": {
    "colab": {
     "base_uri": "https://localhost:8080/",
     "height": 1000
    },
    "colab_type": "code",
    "id": "BeBk-_4glfVe",
    "outputId": "e061e6a3-9378-416c-abcd-454c679ab06b"
   },
   "outputs": [
    {
     "name": "stdout",
     "output_type": "stream",
     "text": [
      "Train on 42000 samples, validate on 18000 samples\n",
      "Epoch 1/30\n",
      " - 1s - loss: 0.2722 - acc: 0.9130 - val_loss: 0.6359 - val_acc: 0.8404\n",
      "Epoch 2/30\n",
      " - 1s - loss: 0.2623 - acc: 0.9157 - val_loss: 0.6767 - val_acc: 0.8348\n",
      "Epoch 3/30\n",
      " - 1s - loss: 0.2528 - acc: 0.9190 - val_loss: 0.6778 - val_acc: 0.8342\n",
      "Epoch 4/30\n",
      " - 1s - loss: 0.2492 - acc: 0.9185 - val_loss: 0.6776 - val_acc: 0.8339\n",
      "Epoch 5/30\n",
      " - 1s - loss: 0.2564 - acc: 0.9182 - val_loss: 0.6806 - val_acc: 0.8318\n",
      "Epoch 6/30\n",
      " - 1s - loss: 0.2463 - acc: 0.9209 - val_loss: 0.6695 - val_acc: 0.8406\n",
      "Epoch 7/30\n",
      " - 1s - loss: 0.2342 - acc: 0.9234 - val_loss: 0.6734 - val_acc: 0.8374\n",
      "Epoch 8/30\n",
      " - 1s - loss: 0.2400 - acc: 0.9228 - val_loss: 0.6631 - val_acc: 0.8426\n",
      "Epoch 9/30\n",
      " - 1s - loss: 0.2292 - acc: 0.9260 - val_loss: 0.6700 - val_acc: 0.8433\n",
      "Epoch 10/30\n",
      " - 1s - loss: 0.2239 - acc: 0.9276 - val_loss: 0.6789 - val_acc: 0.8440\n",
      "Epoch 11/30\n",
      " - 1s - loss: 0.2266 - acc: 0.9274 - val_loss: 0.7021 - val_acc: 0.8406\n",
      "Epoch 12/30\n",
      " - 1s - loss: 0.2128 - acc: 0.9320 - val_loss: 0.6915 - val_acc: 0.8387\n",
      "Epoch 13/30\n",
      " - 1s - loss: 0.2134 - acc: 0.9300 - val_loss: 0.6887 - val_acc: 0.8441\n",
      "Epoch 14/30\n",
      " - 1s - loss: 0.2112 - acc: 0.9320 - val_loss: 0.7193 - val_acc: 0.8427\n",
      "Epoch 15/30\n",
      " - 1s - loss: 0.2016 - acc: 0.9334 - val_loss: 0.7037 - val_acc: 0.8416\n",
      "Epoch 16/30\n",
      " - 1s - loss: 0.2116 - acc: 0.9316 - val_loss: 0.7091 - val_acc: 0.8388\n",
      "Epoch 17/30\n",
      " - 1s - loss: 0.1969 - acc: 0.9363 - val_loss: 0.7206 - val_acc: 0.8386\n",
      "Epoch 18/30\n",
      " - 1s - loss: 0.2014 - acc: 0.9351 - val_loss: 0.7311 - val_acc: 0.8375\n",
      "Epoch 19/30\n",
      " - 1s - loss: 0.1974 - acc: 0.9368 - val_loss: 0.7261 - val_acc: 0.8418\n",
      "Epoch 20/30\n",
      " - 1s - loss: 0.1912 - acc: 0.9389 - val_loss: 0.7657 - val_acc: 0.8321\n",
      "Epoch 21/30\n",
      " - 1s - loss: 0.1970 - acc: 0.9355 - val_loss: 0.7428 - val_acc: 0.8385\n",
      "Epoch 22/30\n",
      " - 1s - loss: 0.1782 - acc: 0.9420 - val_loss: 0.7456 - val_acc: 0.8432\n",
      "Epoch 23/30\n",
      " - 1s - loss: 0.1830 - acc: 0.9401 - val_loss: 0.7479 - val_acc: 0.8418\n",
      "Epoch 24/30\n",
      " - 1s - loss: 0.1908 - acc: 0.9376 - val_loss: 0.7789 - val_acc: 0.8354\n",
      "Epoch 25/30\n",
      " - 1s - loss: 0.1881 - acc: 0.9394 - val_loss: 0.7730 - val_acc: 0.8394\n",
      "Epoch 26/30\n",
      " - 1s - loss: 0.1846 - acc: 0.9406 - val_loss: 0.7548 - val_acc: 0.8409\n",
      "Epoch 27/30\n",
      " - 1s - loss: 0.1882 - acc: 0.9398 - val_loss: 0.7893 - val_acc: 0.8397\n",
      "Epoch 28/30\n",
      " - 1s - loss: 0.1721 - acc: 0.9433 - val_loss: 0.7597 - val_acc: 0.8375\n",
      "Epoch 29/30\n",
      " - 1s - loss: 0.1735 - acc: 0.9442 - val_loss: 0.7720 - val_acc: 0.8446\n",
      "Epoch 30/30\n",
      " - 1s - loss: 0.1584 - acc: 0.9484 - val_loss: 0.7786 - val_acc: 0.8425\n"
     ]
    }
   ],
   "source": [
    "perf = model.fit(X_train, y_train, validation_data=(X_test, y_test), epochs=30, batch_size=200, verbose=2)"
   ]
  },
  {
   "cell_type": "code",
   "execution_count": 67,
   "metadata": {
    "colab": {
     "base_uri": "https://localhost:8080/",
     "height": 35
    },
    "colab_type": "code",
    "id": "oFjjNP7am1hI",
    "outputId": "85a23ef5-5063-4dd0-8dac-1ea37b50b4ef"
   },
   "outputs": [
    {
     "name": "stdout",
     "output_type": "stream",
     "text": [
      "18000/18000 [==============================] - 1s 52us/step\n"
     ]
    }
   ],
   "source": [
    "scores = model.evaluate(X_test, y_test)"
   ]
  },
  {
   "cell_type": "code",
   "execution_count": 68,
   "metadata": {
    "colab": {
     "base_uri": "https://localhost:8080/",
     "height": 35
    },
    "colab_type": "code",
    "id": "seHGnfvbttvt",
    "outputId": "796f02bd-69ef-46be-a8ea-9340f304fcb0"
   },
   "outputs": [
    {
     "data": {
      "text/plain": [
       "[0.7786489759551154, 0.8425]"
      ]
     },
     "execution_count": 68,
     "metadata": {
      "tags": []
     },
     "output_type": "execute_result"
    }
   ],
   "source": [
    "scores"
   ]
  },
  {
   "cell_type": "code",
   "execution_count": 69,
   "metadata": {
    "colab": {
     "base_uri": "https://localhost:8080/",
     "height": 35
    },
    "colab_type": "code",
    "id": "iay_VmbatwPo",
    "outputId": "3c2bdba8-0f98-4cff-ac12-b59593d74732"
   },
   "outputs": [
    {
     "name": "stdout",
     "output_type": "stream",
     "text": [
      "error = 15.75%\n"
     ]
    }
   ],
   "source": [
    "print(\"error = %.2f%%\" %(100 - scores[1]*100))"
   ]
  },
  {
   "cell_type": "code",
   "execution_count": 73,
   "metadata": {
    "colab": {
     "base_uri": "https://localhost:8080/",
     "height": 295
    },
    "colab_type": "code",
    "id": "ryfmgZPJt6PW",
    "outputId": "91cda470-9555-4de4-f6e4-7ad78c60210b"
   },
   "outputs": [
    {
     "data": {
      "image/png": "[encoded data removed]",
      "text/plain": [
       "<Figure size 432x288 with 1 Axes>"
      ]
     },
     "metadata": {
      "tags": []
     },
     "output_type": "display_data"
    }
   ],
   "source": [
    "plt.plot(perf.history['acc'])\n",
    "plt.plot(perf.history['val_acc'])\n",
    "plt.title('model performance')\n",
    "plt.ylabel('accuracy')\n",
    "plt.xlabel('epoch')\n",
    "plt.legend(['training', 'validation'], loc='best')\n",
    "plt.show()"
   ]
  },
  {
   "cell_type": "code",
   "execution_count": 1,
   "metadata": {
    "colab": {},
    "colab_type": "code",
    "id": "L5lT5syav4J_"
   },
   "outputs": [],
   "source": [
    "# Deep neural network is performing better in image classification than KNN.\n",
    "# We have increased the accuracy from 31% to 84% using deep neural network."
   ]
  },
  {
   "cell_type": "markdown",
   "metadata": {},
   "source": [
    "# Summary:\n",
    "-> Imported the dataset and splitted it into train, test and validation sets.\n",
    "\n",
    "-> Applied KNN model, but the performance was poor as the images are very unique.\n",
    "\n",
    "-> Then, the same was applied on deep neural network and the accuracy got increased to 84% from 31%.\n",
    "\n",
    "-> So for image classification and large datasets, deep neural network proves to be better.\n"
   ]
  },
  {
   "cell_type": "code",
   "execution_count": null,
   "metadata": {},
   "outputs": [],
   "source": []
  }
 ],
 "metadata": {
  "accelerator": "GPU",
  "colab": {
   "name": "Untitled1.ipynb",
   "provenance": []
  },
  "kernelspec": {
   "display_name": "Python 3",
   "language": "python",
   "name": "python3"
  },
  "language_info": {
   "codemirror_mode": {
    "name": "ipython",
    "version": 3
   },
   "file_extension": ".py",
   "mimetype": "text/x-python",
   "name": "python",
   "nbconvert_exporter": "python",
   "pygments_lexer": "ipython3",
   "version": "3.7.5"
  }
 },
 "nbformat": 4,
 "nbformat_minor": 1
}
