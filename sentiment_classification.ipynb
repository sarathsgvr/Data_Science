{
 "cells": [
  {
   "cell_type": "markdown",
   "metadata": {
    "colab_type": "text",
    "id": "nPJy1HKqYUsg"
   },
   "source": [
    "# Sentiment Classification\n",
    "## Objective:\n",
    "To generate Word Embeddings and retrieve outputs of each layer with Keras based on the Classification task\n",
    "## Dataset:\n",
    "IMDb dataset "
   ]
  },
  {
   "cell_type": "markdown",
   "metadata": {
    "colab_type": "text",
    "id": "O1EpqV2-qYsD"
   },
   "source": [
    "## Loading the dataset"
   ]
  },
  {
   "cell_type": "code",
   "execution_count": 1,
   "metadata": {
    "colab": {
     "base_uri": "https://localhost:8080/",
     "height": 116
    },
    "colab_type": "code",
    "executionInfo": {
     "elapsed": 7442,
     "status": "ok",
     "timestamp": 1584250184107,
     "user": {
      "displayName": "Sarath S",
      "photoUrl": "https://lh3.googleusercontent.com/a-/AOh14GgQZsIvHEjQUZlxvPH2AVgV2D0HZsUoDGpYiOFQ7Q=s64",
      "userId": "09916916000502982936"
     },
     "user_tz": -330
    },
    "id": "fbVFOPwAXF5a",
    "outputId": "b80fd40d-d8b3-4b32-cb49-652405df6185"
   },
   "outputs": [
    {
     "name": "stderr",
     "output_type": "stream",
     "text": [
      "Using TensorFlow backend.\n"
     ]
    },
    {
     "data": {
      "text/html": [
       "<p style=\"color: red;\">\n",
       "The default version of TensorFlow in Colab will soon switch to TensorFlow 2.x.<br>\n",
       "We recommend you <a href=\"https://www.tensorflow.org/guide/migrate\" target=\"_blank\">upgrade</a> now \n",
       "or ensure your notebook will continue to use TensorFlow 1.x via the <code>%tensorflow_version 1.x</code> magic:\n",
       "<a href=\"https://colab.research.google.com/notebooks/tensorflow_version.ipynb\" target=\"_blank\">more info</a>.</p>\n"
      ],
      "text/plain": [
       "<IPython.core.display.HTML object>"
      ]
     },
     "metadata": {
      "tags": []
     },
     "output_type": "display_data"
    },
    {
     "name": "stdout",
     "output_type": "stream",
     "text": [
      "Downloading data from https://s3.amazonaws.com/text-datasets/imdb.npz\n",
      "17465344/17464789 [==============================] - 0s 0us/step\n"
     ]
    }
   ],
   "source": [
    "from keras.datasets import imdb\n",
    "\n",
    "vocab_size = 10000 \n",
    "\n",
    "(x_train, y_train), (x_test, y_test) = imdb.load_data(num_words=vocab_size) "
   ]
  },
  {
   "cell_type": "code",
   "execution_count": 0,
   "metadata": {
    "colab": {},
    "colab_type": "code",
    "id": "rwOHyWDnYizc"
   },
   "outputs": [],
   "source": [
    "from keras.preprocessing.sequence import pad_sequences\n",
    "vocab_size = 10000 #vocab size\n",
    "maxlen = 300  #number of word used from each review"
   ]
  },
  {
   "cell_type": "code",
   "execution_count": 0,
   "metadata": {
    "colab": {},
    "colab_type": "code",
    "id": "VNVO1d3-Y17H"
   },
   "outputs": [],
   "source": [
    "#load dataset as a list of ints\n",
    "(x_train, y_train), (x_test, y_test) = imdb.load_data(num_words=vocab_size)\n",
    "#make all sequences of the same length\n",
    "x_train = pad_sequences(x_train, maxlen=maxlen)\n",
    "x_test =  pad_sequences(x_test, maxlen=maxlen)"
   ]
  },
  {
   "cell_type": "code",
   "execution_count": 4,
   "metadata": {
    "colab": {
     "base_uri": "https://localhost:8080/",
     "height": 35
    },
    "colab_type": "code",
    "executionInfo": {
     "elapsed": 902,
     "status": "ok",
     "timestamp": 1584250291086,
     "user": {
      "displayName": "Sarath S",
      "photoUrl": "https://lh3.googleusercontent.com/a-/AOh14GgQZsIvHEjQUZlxvPH2AVgV2D0HZsUoDGpYiOFQ7Q=s64",
      "userId": "09916916000502982936"
     },
     "user_tz": -330
    },
    "id": "PcsAvGP9Y5i0",
    "outputId": "a72cec56-9346-459b-fb80-a9ca9dd9356b"
   },
   "outputs": [
    {
     "name": "stdout",
     "output_type": "stream",
     "text": [
      "(25000, 300) (25000,) (25000, 300) (25000,)\n"
     ]
    }
   ],
   "source": [
    "print(x_train.shape, y_train.shape,  x_test.shape, y_test.shape)"
   ]
  },
  {
   "cell_type": "code",
   "execution_count": 5,
   "metadata": {
    "colab": {
     "base_uri": "https://localhost:8080/",
     "height": 52
    },
    "colab_type": "code",
    "executionInfo": {
     "elapsed": 1902,
     "status": "ok",
     "timestamp": 1584250297037,
     "user": {
      "displayName": "Sarath S",
      "photoUrl": "https://lh3.googleusercontent.com/a-/AOh14GgQZsIvHEjQUZlxvPH2AVgV2D0HZsUoDGpYiOFQ7Q=s64",
      "userId": "09916916000502982936"
     },
     "user_tz": -330
    },
    "id": "KhbF4z8uZMAj",
    "outputId": "dd3b49fb-0851-4f9d-cc88-1c63ab616583"
   },
   "outputs": [
    {
     "name": "stdout",
     "output_type": "stream",
     "text": [
      "Max val:  9999\n",
      "Max len:  300\n"
     ]
    }
   ],
   "source": [
    "print(\"Max val: \", max([max(sequence) for sequence in x_train]))\n",
    "print(\"Max len: \", max([len(sequence) for sequence in x_train]))"
   ]
  },
  {
   "cell_type": "markdown",
   "metadata": {
    "colab_type": "text",
    "id": "ErJGPfr8rGFo"
   },
   "source": [
    "## Build Keras Embedding Layer Model"
   ]
  },
  {
   "cell_type": "code",
   "execution_count": 6,
   "metadata": {
    "colab": {
     "base_uri": "https://localhost:8080/",
     "height": 557
    },
    "colab_type": "code",
    "executionInfo": {
     "elapsed": 885,
     "status": "ok",
     "timestamp": 1584250303644,
     "user": {
      "displayName": "Sarath S",
      "photoUrl": "https://lh3.googleusercontent.com/a-/AOh14GgQZsIvHEjQUZlxvPH2AVgV2D0HZsUoDGpYiOFQ7Q=s64",
      "userId": "09916916000502982936"
     },
     "user_tz": -330
    },
    "id": "75D1d5-7ZrEf",
    "outputId": "fbee8696-06f6-4ce9-8ed3-15c79ac72641"
   },
   "outputs": [
    {
     "name": "stdout",
     "output_type": "stream",
     "text": [
      "WARNING:tensorflow:From /usr/local/lib/python3.6/dist-packages/keras/backend/tensorflow_backend.py:66: The name tf.get_default_graph is deprecated. Please use tf.compat.v1.get_default_graph instead.\n",
      "\n",
      "WARNING:tensorflow:From /usr/local/lib/python3.6/dist-packages/keras/backend/tensorflow_backend.py:541: The name tf.placeholder is deprecated. Please use tf.compat.v1.placeholder instead.\n",
      "\n",
      "WARNING:tensorflow:From /usr/local/lib/python3.6/dist-packages/keras/backend/tensorflow_backend.py:4432: The name tf.random_uniform is deprecated. Please use tf.random.uniform instead.\n",
      "\n",
      "WARNING:tensorflow:From /usr/local/lib/python3.6/dist-packages/keras/optimizers.py:793: The name tf.train.Optimizer is deprecated. Please use tf.compat.v1.train.Optimizer instead.\n",
      "\n",
      "WARNING:tensorflow:From /usr/local/lib/python3.6/dist-packages/keras/backend/tensorflow_backend.py:3657: The name tf.log is deprecated. Please use tf.math.log instead.\n",
      "\n",
      "WARNING:tensorflow:From /usr/local/lib/python3.6/dist-packages/tensorflow_core/python/ops/nn_impl.py:183: where (from tensorflow.python.ops.array_ops) is deprecated and will be removed in a future version.\n",
      "Instructions for updating:\n",
      "Use tf.where in 2.0, which has the same broadcast rule as np.where\n",
      "Model: \"sequential_1\"\n",
      "_________________________________________________________________\n",
      "Layer (type)                 Output Shape              Param #   \n",
      "=================================================================\n",
      "embedding_1 (Embedding)      (None, 300, 32)           320000    \n",
      "_________________________________________________________________\n",
      "flatten_1 (Flatten)          (None, 9600)              0         \n",
      "_________________________________________________________________\n",
      "dense_1 (Dense)              (None, 250)               2400250   \n",
      "_________________________________________________________________\n",
      "dense_2 (Dense)              (None, 1)                 251       \n",
      "=================================================================\n",
      "Total params: 2,720,501\n",
      "Trainable params: 2,720,501\n",
      "Non-trainable params: 0\n",
      "_________________________________________________________________\n",
      "None\n"
     ]
    }
   ],
   "source": [
    "from keras.datasets import imdb\n",
    "from keras.models import Sequential\n",
    "from keras.layers import Dense\n",
    "from keras.layers import Flatten\n",
    "from keras.layers.embeddings import Embedding\n",
    "from keras.preprocessing import sequence\n",
    "\n",
    "import os\n",
    "# create the model\n",
    "model = Sequential()\n",
    "model.add(Embedding(vocab_size, 32, input_length=maxlen))\n",
    "model.add(Flatten())\n",
    "model.add(Dense(250, activation='relu'))\n",
    "model.add(Dense(1, activation='sigmoid'))\n",
    "model.compile(loss='binary_crossentropy', optimizer='adam', metrics=['accuracy'])\n",
    "print(model.summary())"
   ]
  },
  {
   "cell_type": "code",
   "execution_count": 7,
   "metadata": {
    "colab": {
     "base_uri": "https://localhost:8080/",
     "height": 523
    },
    "colab_type": "code",
    "executionInfo": {
     "elapsed": 193648,
     "status": "ok",
     "timestamp": 1584250533062,
     "user": {
      "displayName": "Sarath S",
      "photoUrl": "https://lh3.googleusercontent.com/a-/AOh14GgQZsIvHEjQUZlxvPH2AVgV2D0HZsUoDGpYiOFQ7Q=s64",
      "userId": "09916916000502982936"
     },
     "user_tz": -330
    },
    "id": "5xV0YwFeZ_YH",
    "outputId": "fcdd0841-3fca-47d3-a9b2-8974cab16e85"
   },
   "outputs": [
    {
     "name": "stdout",
     "output_type": "stream",
     "text": [
      "WARNING:tensorflow:From /usr/local/lib/python3.6/dist-packages/keras/backend/tensorflow_backend.py:1033: The name tf.assign_add is deprecated. Please use tf.compat.v1.assign_add instead.\n",
      "\n",
      "WARNING:tensorflow:From /usr/local/lib/python3.6/dist-packages/keras/backend/tensorflow_backend.py:1020: The name tf.assign is deprecated. Please use tf.compat.v1.assign instead.\n",
      "\n",
      "WARNING:tensorflow:From /usr/local/lib/python3.6/dist-packages/keras/backend/tensorflow_backend.py:3005: The name tf.Session is deprecated. Please use tf.compat.v1.Session instead.\n",
      "\n",
      "Train on 25000 samples, validate on 25000 samples\n",
      "Epoch 1/5\n",
      "WARNING:tensorflow:From /usr/local/lib/python3.6/dist-packages/keras/backend/tensorflow_backend.py:190: The name tf.get_default_session is deprecated. Please use tf.compat.v1.get_default_session instead.\n",
      "\n",
      "WARNING:tensorflow:From /usr/local/lib/python3.6/dist-packages/keras/backend/tensorflow_backend.py:197: The name tf.ConfigProto is deprecated. Please use tf.compat.v1.ConfigProto instead.\n",
      "\n",
      "WARNING:tensorflow:From /usr/local/lib/python3.6/dist-packages/keras/backend/tensorflow_backend.py:207: The name tf.global_variables is deprecated. Please use tf.compat.v1.global_variables instead.\n",
      "\n",
      "WARNING:tensorflow:From /usr/local/lib/python3.6/dist-packages/keras/backend/tensorflow_backend.py:216: The name tf.is_variable_initialized is deprecated. Please use tf.compat.v1.is_variable_initialized instead.\n",
      "\n",
      "WARNING:tensorflow:From /usr/local/lib/python3.6/dist-packages/keras/backend/tensorflow_backend.py:223: The name tf.variables_initializer is deprecated. Please use tf.compat.v1.variables_initializer instead.\n",
      "\n",
      " - 38s - loss: 0.3943 - acc: 0.8050 - val_loss: 0.2902 - val_acc: 0.8775\n",
      "Epoch 2/5\n",
      " - 37s - loss: 0.1019 - acc: 0.9637 - val_loss: 0.3986 - val_acc: 0.8542\n",
      "Epoch 3/5\n",
      " - 38s - loss: 0.0183 - acc: 0.9938 - val_loss: 0.6060 - val_acc: 0.8535\n",
      "Epoch 4/5\n",
      " - 38s - loss: 0.0072 - acc: 0.9978 - val_loss: 0.7482 - val_acc: 0.8549\n",
      "Epoch 5/5\n",
      " - 38s - loss: 0.0172 - acc: 0.9940 - val_loss: 0.7907 - val_acc: 0.8433\n",
      "Accuracy: 84.33%\n"
     ]
    }
   ],
   "source": [
    "# Fit the model\n",
    "model.fit(x_train, y_train, validation_data=(x_test, y_test), epochs=5, batch_size=32, verbose=2)\n",
    "# Final evaluation of the model\n",
    "scores = model.evaluate(x_test, y_test, verbose=0)\n",
    "print(\"Accuracy: %.2f%%\" % (scores[1]*100))"
   ]
  },
  {
   "cell_type": "code",
   "execution_count": 8,
   "metadata": {
    "colab": {
     "base_uri": "https://localhost:8080/",
     "height": 124
    },
    "colab_type": "code",
    "executionInfo": {
     "elapsed": 23570,
     "status": "ok",
     "timestamp": 1584250627525,
     "user": {
      "displayName": "Sarath S",
      "photoUrl": "https://lh3.googleusercontent.com/a-/AOh14GgQZsIvHEjQUZlxvPH2AVgV2D0HZsUoDGpYiOFQ7Q=s64",
      "userId": "09916916000502982936"
     },
     "user_tz": -330
    },
    "id": "DZPvDMj8aGvF",
    "outputId": "c850251a-a0e6-47cb-849b-2173ac2e6433"
   },
   "outputs": [
    {
     "name": "stdout",
     "output_type": "stream",
     "text": [
      "Go to this URL in a browser: https://accounts.google.com/o/oauth2/auth?client_id=947318989803-6bn6qk8qdgf4n4g3pfee6491hc0brc4i.apps.googleusercontent.com&redirect_uri=urn%3aietf%3awg%3aoauth%3a2.0%3aoob&response_type=code&scope=email%20https%3a%2f%2fwww.googleapis.com%2fauth%2fdocs.test%20https%3a%2f%2fwww.googleapis.com%2fauth%2fdrive%20https%3a%2f%2fwww.googleapis.com%2fauth%2fdrive.photos.readonly%20https%3a%2f%2fwww.googleapis.com%2fauth%2fpeopleapi.readonly\n",
      "\n",
      "Enter your authorization code:\n",
      "··········\n",
      "Mounted at /mnt/drive\n"
     ]
    }
   ],
   "source": [
    "# Mount google drive\n",
    "from google.colab import drive\n",
    "drive.mount('/mnt/drive')"
   ]
  },
  {
   "cell_type": "code",
   "execution_count": 0,
   "metadata": {
    "colab": {},
    "colab_type": "code",
    "id": "P54fDh6xbdMM"
   },
   "outputs": [],
   "source": [
    "import os\n",
    "os.chdir('/mnt/drive/My Drive/Colab Notebooks')\n",
    "model.save('Sequential_NLP_model.h5')"
   ]
  },
  {
   "cell_type": "markdown",
   "metadata": {
    "colab_type": "text",
    "id": "oQh6isKFyr6M"
   },
   "source": [
    "## Retrive the output of each layer in keras for a given single test sample from the trained model you built"
   ]
  },
  {
   "cell_type": "code",
   "execution_count": 11,
   "metadata": {
    "colab": {
     "base_uri": "https://localhost:8080/",
     "height": 381
    },
    "colab_type": "code",
    "executionInfo": {
     "elapsed": 361413,
     "status": "ok",
     "timestamp": 1584251144377,
     "user": {
      "displayName": "Sarath S",
      "photoUrl": "https://lh3.googleusercontent.com/a-/AOh14GgQZsIvHEjQUZlxvPH2AVgV2D0HZsUoDGpYiOFQ7Q=s64",
      "userId": "09916916000502982936"
     },
     "user_tz": -330
    },
    "id": "oXlhTOYcbs82",
    "outputId": "196c08ab-1276-4d7f-8942-c476d0a41264"
   },
   "outputs": [
    {
     "name": "stdout",
     "output_type": "stream",
     "text": [
      "Epoch 1/10\n",
      "25000/25000 [==============================] - 38s 2ms/step - loss: 0.0125 - acc: 0.9956\n",
      "Epoch 2/10\n",
      "25000/25000 [==============================] - 37s 1ms/step - loss: 0.0088 - acc: 0.9971\n",
      "Epoch 3/10\n",
      "25000/25000 [==============================] - 37s 1ms/step - loss: 0.0091 - acc: 0.9974\n",
      "Epoch 4/10\n",
      "25000/25000 [==============================] - 37s 1ms/step - loss: 0.0052 - acc: 0.9984\n",
      "Epoch 5/10\n",
      "25000/25000 [==============================] - 36s 1ms/step - loss: 0.0019 - acc: 0.9994\n",
      "Epoch 6/10\n",
      "25000/25000 [==============================] - 36s 1ms/step - loss: 0.0070 - acc: 0.9977\n",
      "Epoch 7/10\n",
      "25000/25000 [==============================] - 35s 1ms/step - loss: 0.0114 - acc: 0.9962\n",
      "Epoch 8/10\n",
      "25000/25000 [==============================] - 35s 1ms/step - loss: 0.0049 - acc: 0.9980\n",
      "Epoch 9/10\n",
      "25000/25000 [==============================] - 35s 1ms/step - loss: 0.0030 - acc: 0.9988\n",
      "Epoch 10/10\n",
      "25000/25000 [==============================] - 35s 1ms/step - loss: 0.0012 - acc: 0.9996\n"
     ]
    },
    {
     "data": {
      "text/plain": [
       "<keras.callbacks.History at 0x7faa748c7f60>"
      ]
     },
     "execution_count": 11,
     "metadata": {
      "tags": []
     },
     "output_type": "execute_result"
    }
   ],
   "source": [
    "model.fit(x_train, y_train, batch_size=32, epochs=10)"
   ]
  },
  {
   "cell_type": "markdown",
   "metadata": {
    "colab_type": "text",
    "id": "Fmdrh4YzwW9D"
   },
   "source": [
    "## Accuracy of the model"
   ]
  },
  {
   "cell_type": "code",
   "execution_count": 12,
   "metadata": {
    "colab": {
     "base_uri": "https://localhost:8080/",
     "height": 69
    },
    "colab_type": "code",
    "executionInfo": {
     "elapsed": 4643,
     "status": "ok",
     "timestamp": 1584251694610,
     "user": {
      "displayName": "Sarath S",
      "photoUrl": "https://lh3.googleusercontent.com/a-/AOh14GgQZsIvHEjQUZlxvPH2AVgV2D0HZsUoDGpYiOFQ7Q=s64",
      "userId": "09916916000502982936"
     },
     "user_tz": -330
    },
    "id": "U9mOTaUkb0yN",
    "outputId": "85dd8e83-551d-4cbe-bf56-d22bd6aac493"
   },
   "outputs": [
    {
     "name": "stdout",
     "output_type": "stream",
     "text": [
      "25000/25000 [==============================] - 4s 151us/step\n",
      "Test score: 1.2472254811473191\n",
      "Test accuracy: 0.84796\n"
     ]
    }
   ],
   "source": [
    "score, acc = model.evaluate(x_test, y_test,\n",
    "                            batch_size=32)\n",
    "print('Test score:', score)\n",
    "print('Test accuracy:', acc)"
   ]
  },
  {
   "cell_type": "markdown",
   "metadata": {
    "colab_type": "text",
    "id": "jgLhkg07yyhY"
   },
   "source": [
    "## Summary:\n",
    "1. Imported IMDB dataset\n",
    "2. Splitted into train and test set.\n",
    "3. Built an embedded layer with word index and created key-value pair for word and word-id.\n",
    "4. Retrieved the output of each layer and found out the accuracy of model."
   ]
  }
 ],
 "metadata": {
  "colab": {
   "authorship_tag": "ABX9TyN4m3Qlpkx9wdWrgm9ugQQI",
   "name": "sequential NLP.ipynb",
   "provenance": []
  },
  "kernelspec": {
   "display_name": "Python 3",
   "language": "python",
   "name": "python3"
  },
  "language_info": {
   "codemirror_mode": {
    "name": "ipython",
    "version": 3
   },
   "file_extension": ".py",
   "mimetype": "text/x-python",
   "name": "python",
   "nbconvert_exporter": "python",
   "pygments_lexer": "ipython3",
   "version": "3.7.5"
  }
 },
 "nbformat": 4,
 "nbformat_minor": 1
}
